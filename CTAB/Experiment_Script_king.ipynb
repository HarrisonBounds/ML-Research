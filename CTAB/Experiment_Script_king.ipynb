{
 "cells": [
  {
   "cell_type": "code",
   "execution_count": 3,
   "metadata": {},
   "outputs": [],
   "source": [
    "from model.ctabgan import CTABGAN\n",
    "from model.eval.evaluation import get_utility_metrics,stat_sim,privacy_metrics\n",
    "import numpy as np\n",
    "import pandas as pd\n",
    "import glob"
   ]
  },
  {
   "cell_type": "code",
   "execution_count": 4,
   "metadata": {},
   "outputs": [],
   "source": [
    "num_exp = 1\n",
    "dataset = \"king\"\n",
    "real_path = \"Real_Datasets/king.csv\"\n",
    "fake_file_root = \"Fake_Datasets\""
   ]
  },
  {
   "cell_type": "code",
   "execution_count": 5,
   "metadata": {},
   "outputs": [
    {
     "name": "stderr",
     "output_type": "stream",
     "text": [
      "\r",
      "  0%|                                                                                                                                     | 0/150 [00:00<?, ?it/s]"
     ]
    },
    {
     "name": "stdout",
     "output_type": "stream",
     "text": [
      "generator structure:  Generator(\n",
      "  (seq): Sequential(\n",
      "    (0): ConvTranspose2d(266, 256, kernel_size=(2, 2), stride=(1, 1), bias=False)\n",
      "    (1): LayerNorm((256, 2, 2), eps=1e-05, elementwise_affine=True)\n",
      "    (2): ReLU(inplace=True)\n",
      "    (3): ConvTranspose2d(256, 128, kernel_size=(4, 4), stride=(2, 2), padding=(1, 1))\n",
      "    (4): LayerNorm((128, 4, 4), eps=1e-05, elementwise_affine=True)\n",
      "    (5): ReLU(inplace=True)\n",
      "    (6): ConvTranspose2d(128, 64, kernel_size=(4, 4), stride=(2, 2), padding=(1, 1))\n",
      "    (7): LayerNorm((64, 8, 8), eps=1e-05, elementwise_affine=True)\n",
      "    (8): ReLU(inplace=True)\n",
      "    (9): ConvTranspose2d(64, 1, kernel_size=(4, 4), stride=(2, 2), padding=(1, 1))\n",
      "  )\n",
      ")\n"
     ]
    },
    {
     "name": "stderr",
     "output_type": "stream",
     "text": [
      "100%|███████████████████████████████████████████████████████████████████████████████████████████████████████████████████████████| 150/150 [12:06<00:00,  4.84s/it]"
     ]
    },
    {
     "name": "stdout",
     "output_type": "stream",
     "text": [
      "Finished training in 738.5056114196777  seconds.\n"
     ]
    },
    {
     "name": "stderr",
     "output_type": "stream",
     "text": [
      "\n"
     ]
    }
   ],
   "source": [
    "synthesizer =  CTABGAN(raw_csv_path = real_path,\n",
    "                 test_ratio = 0.20,\n",
    "                 categorical_columns = ['bedrooms', \"floors\", 'waterfront', 'view', 'condition', 'grade','zipcode'],   \n",
    "                 log_columns = [],\n",
    "                 mixed_columns= {\"sqft_basement\":[0.0],  \"yr_renovated\":[0.0]},\n",
    "                 general_columns= [\"bathrooms\", \"sqft_living\", \"sqft_above\", \"yr_built\", \"long\", \"sqft_living15\"],\n",
    "                 non_categorical_columns= [],\n",
    "                 integer_columns = [],\n",
    "                 problem_type= {\"Regression\": \"price\"}) \n",
    "\n",
    "for i in range(num_exp):\n",
    "    synthesizer.fit()"
   ]
  },
  {
   "cell_type": "code",
   "execution_count": 6,
   "metadata": {},
   "outputs": [
    {
     "name": "stdout",
     "output_type": "stream",
     "text": [
      "generated result length:  (22396, 20)\n",
      "generated result length:  (21941, 20)\n",
      "generated result length:  (22424, 20)\n"
     ]
    }
   ],
   "source": [
    "for i in range(3):\n",
    "    syn = synthesizer.generate_samples()\n",
    "    syn.to_csv(fake_file_root+\"/\"+dataset+\"/\"+ dataset+\"_fake_{exp}_ctabplus.csv\".format(exp=i), index= False)"
   ]
  },
  {
   "cell_type": "code",
   "execution_count": 8,
   "metadata": {},
   "outputs": [],
   "source": [
    "fake_paths = glob.glob(fake_file_root+\"/\"+dataset+\"/\"+\"*\")"
   ]
  },
  {
   "cell_type": "code",
   "execution_count": 9,
   "metadata": {},
   "outputs": [
    {
     "data": {
      "text/html": [
       "<div>\n",
       "<style scoped>\n",
       "    .dataframe tbody tr th:only-of-type {\n",
       "        vertical-align: middle;\n",
       "    }\n",
       "\n",
       "    .dataframe tbody tr th {\n",
       "        vertical-align: top;\n",
       "    }\n",
       "\n",
       "    .dataframe thead th {\n",
       "        text-align: right;\n",
       "    }\n",
       "</style>\n",
       "<table border=\"1\" class=\"dataframe\">\n",
       "  <thead>\n",
       "    <tr style=\"text-align: right;\">\n",
       "      <th></th>\n",
       "      <th>Mean_Absolute_Percentage_Error</th>\n",
       "      <th>Explained_Varaince_Score</th>\n",
       "      <th>R2_Score</th>\n",
       "    </tr>\n",
       "  </thead>\n",
       "  <tbody>\n",
       "    <tr>\n",
       "      <th>l_reg</th>\n",
       "      <td>0.015166</td>\n",
       "      <td>0.020321</td>\n",
       "      <td>0.037300</td>\n",
       "    </tr>\n",
       "    <tr>\n",
       "      <th>ridge</th>\n",
       "      <td>0.015466</td>\n",
       "      <td>0.021220</td>\n",
       "      <td>0.037621</td>\n",
       "    </tr>\n",
       "    <tr>\n",
       "      <th>lasso</th>\n",
       "      <td>0.015587</td>\n",
       "      <td>0.020319</td>\n",
       "      <td>0.037342</td>\n",
       "    </tr>\n",
       "    <tr>\n",
       "      <th>B_ridge</th>\n",
       "      <td>0.015699</td>\n",
       "      <td>0.020517</td>\n",
       "      <td>0.037326</td>\n",
       "    </tr>\n",
       "  </tbody>\n",
       "</table>\n",
       "</div>"
      ],
      "text/plain": [
       "         Mean_Absolute_Percentage_Error  Explained_Varaince_Score  R2_Score\n",
       "l_reg                          0.015166                  0.020321  0.037300\n",
       "ridge                          0.015466                  0.021220  0.037621\n",
       "lasso                          0.015587                  0.020319  0.037342\n",
       "B_ridge                        0.015699                  0.020517  0.037326"
      ]
     },
     "execution_count": 9,
     "metadata": {},
     "output_type": "execute_result"
    }
   ],
   "source": [
    "model_dict =  {\"Regression\":[\"l_reg\",\"ridge\",\"lasso\",\"B_ridge\"]}\n",
    "result_mat = get_utility_metrics(real_path,fake_paths,\"MinMax\",model_dict, test_ratio = 0.20)\n",
    "\n",
    "result_df  = pd.DataFrame(result_mat,columns=[\"Mean_Absolute_Percentage_Error\",\"Explained_Varaince_Score\",\"R2_Score\"])\n",
    "result_df.index = list(model_dict.values())[0]\n",
    "result_df"
   ]
  },
  {
   "cell_type": "code",
   "execution_count": 10,
   "metadata": {
    "scrolled": true
   },
   "outputs": [
    {
     "name": "stdout",
     "output_type": "stream",
     "text": [
      "column:  date WD:  0.021664532323824\n",
      "column:  bedrooms JSD:  0.07406527406706762\n",
      "column:  bathrooms WD:  0.016980764394344122\n",
      "column:  sqft_living WD:  0.014219149021258948\n",
      "column:  sqft_lot WD:  0.0011990821509605576\n",
      "column:  floors JSD:  0.034618949536077644\n",
      "column:  waterfront JSD:  0.0270201447597129\n",
      "column:  view JSD:  0.037729996377866726\n",
      "column:  condition JSD:  0.033514058559008686\n",
      "column:  grade JSD:  0.08800911188988236\n",
      "column:  sqft_above WD:  0.011549294545643959\n",
      "column:  sqft_basement WD:  0.0034711576866429446\n",
      "column:  yr_built WD:  0.007681289252351483\n",
      "column:  yr_renovated WD:  0.014927505480426317\n",
      "column:  zipcode JSD:  0.16489880248868577\n",
      "column:  lat WD:  0.02657911382138573\n",
      "column:  long WD:  0.014846288664317359\n",
      "column:  sqft_living15 WD:  0.02384116692949852\n",
      "column:  sqft_lot15 WD:  0.00115209156828118\n",
      "column:  price WD:  0.0008783043460760184\n",
      "column:  date WD:  0.02141006038706135\n",
      "column:  bedrooms JSD:  0.07569138670242004\n",
      "column:  bathrooms WD:  0.01678559692891177\n",
      "column:  sqft_living WD:  0.014979525925159779\n",
      "column:  sqft_lot WD:  0.0011664170850039072\n",
      "column:  floors JSD:  0.03654728198374608\n",
      "column:  waterfront JSD:  0.020464207656207954\n",
      "column:  view JSD:  0.040816362838858394\n",
      "column:  condition JSD:  0.035183332417494446\n",
      "column:  grade JSD:  0.08696673135577843\n",
      "column:  sqft_above WD:  0.012501875456298285\n",
      "column:  sqft_basement WD:  0.003761600285300906\n",
      "column:  yr_built WD:  0.00806649383826523\n",
      "column:  yr_renovated WD:  0.018164870618668314\n",
      "column:  zipcode JSD:  0.16694222261460895\n",
      "column:  lat WD:  0.025629625625395756\n",
      "column:  long WD:  0.014964619775282637\n",
      "column:  sqft_living15 WD:  0.02667624328073824\n",
      "column:  sqft_lot15 WD:  0.001194582170178245\n",
      "column:  price WD:  0.001543254966241602\n",
      "column:  date WD:  0.016768849749361665\n",
      "column:  bedrooms JSD:  0.07394728136688862\n",
      "column:  bathrooms WD:  0.01685747757953248\n",
      "column:  sqft_living WD:  0.014279527261882504\n",
      "column:  sqft_lot WD:  0.001225406690313994\n",
      "column:  floors JSD:  0.0360415216300048\n",
      "column:  waterfront JSD:  0.023318888110351974\n",
      "column:  view JSD:  0.038700778344640495\n",
      "column:  condition JSD:  0.03967461203222369\n",
      "column:  grade JSD:  0.08771123067079749\n",
      "column:  sqft_above WD:  0.011720731634749832\n",
      "column:  sqft_basement WD:  0.0031042028228331\n",
      "column:  yr_built WD:  0.008152403614914294\n",
      "column:  yr_renovated WD:  0.01744011470254415\n",
      "column:  zipcode JSD:  0.1650940637027077\n",
      "column:  lat WD:  0.027177270747521052\n",
      "column:  long WD:  0.01535659938432841\n",
      "column:  sqft_living15 WD:  0.02421022553992729\n",
      "column:  sqft_lot15 WD:  0.0011171336385851815\n",
      "column:  price WD:  0.0009091761592958667\n"
     ]
    },
    {
     "data": {
      "text/html": [
       "<div>\n",
       "<style scoped>\n",
       "    .dataframe tbody tr th:only-of-type {\n",
       "        vertical-align: middle;\n",
       "    }\n",
       "\n",
       "    .dataframe tbody tr th {\n",
       "        vertical-align: top;\n",
       "    }\n",
       "\n",
       "    .dataframe thead th {\n",
       "        text-align: right;\n",
       "    }\n",
       "</style>\n",
       "<table border=\"1\" class=\"dataframe\">\n",
       "  <thead>\n",
       "    <tr style=\"text-align: right;\">\n",
       "      <th></th>\n",
       "      <th>Average WD (Continuous Columns</th>\n",
       "      <th>Average JSD (Categorical Columns)</th>\n",
       "      <th>Correlation Distance</th>\n",
       "    </tr>\n",
       "  </thead>\n",
       "  <tbody>\n",
       "    <tr>\n",
       "      <th>0</th>\n",
       "      <td>0.012414</td>\n",
       "      <td>0.066046</td>\n",
       "      <td>0.930768</td>\n",
       "    </tr>\n",
       "  </tbody>\n",
       "</table>\n",
       "</div>"
      ],
      "text/plain": [
       "   Average WD (Continuous Columns  Average JSD (Categorical Columns)  \\\n",
       "0                        0.012414                           0.066046   \n",
       "\n",
       "   Correlation Distance  \n",
       "0              0.930768  "
      ]
     },
     "execution_count": 10,
     "metadata": {},
     "output_type": "execute_result"
    }
   ],
   "source": [
    "# ctabplus\n",
    "insurance_categorical = ['bedrooms', \"floors\", 'waterfront', 'view', 'condition', 'grade','zipcode']\n",
    "stat_res_avg = []\n",
    "for fake_path in fake_paths:\n",
    "    stat_res = stat_sim(real_path,fake_path,insurance_categorical)\n",
    "    stat_res_avg.append(stat_res)\n",
    "\n",
    "stat_columns = [\"Average WD (Continuous Columns\",\"Average JSD (Categorical Columns)\",\"Correlation Distance\"]\n",
    "stat_results = pd.DataFrame(np.array(stat_res_avg).mean(axis=0).reshape(1,3),columns=stat_columns)\n",
    "stat_results"
   ]
  },
  {
   "cell_type": "code",
   "execution_count": null,
   "metadata": {},
   "outputs": [],
   "source": []
  }
 ],
 "metadata": {
  "interpreter": {
   "hash": "5bbd4e8a0020626d1955d6e7d647b883363040a056d10513dec12a340be08610"
  },
  "kernelspec": {
   "display_name": "Python 3",
   "language": "python",
   "name": "python3"
  },
  "language_info": {
   "codemirror_mode": {
    "name": "ipython",
    "version": 3
   },
   "file_extension": ".py",
   "mimetype": "text/x-python",
   "name": "python",
   "nbconvert_exporter": "python",
   "pygments_lexer": "ipython3",
   "version": "3.7.6"
  }
 },
 "nbformat": 4,
 "nbformat_minor": 2
}
